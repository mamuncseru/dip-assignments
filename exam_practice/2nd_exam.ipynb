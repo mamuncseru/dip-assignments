{
 "cells": [
  {
   "cell_type": "code",
   "execution_count": 1,
   "metadata": {},
   "outputs": [
    {
     "name": "stdout",
     "output_type": "stream",
     "text": [
      "Collecting opencv-python\n",
      "  Downloading opencv_python-4.6.0.66-cp36-abi3-manylinux_2_17_x86_64.manylinux2014_x86_64.whl (60.9 MB)\n",
      "\u001b[K     |████████████████████████████████| 60.9 MB 66 kB/s eta 0:00:012     |████████████▌                   | 23.7 MB 270 kB/s eta 0:02:18     |█████████████████               | 32.3 MB 57 kB/s eta 0:08:20     |█████████████████▏              | 32.8 MB 214 kB/s eta 0:02:12     |████████████████████▉           | 39.6 MB 257 kB/s eta 0:01:23     |█████████████████████████████▋  | 56.4 MB 191 kB/s eta 0:00:24     |█████████████████████████████▉  | 56.7 MB 262 kB/s eta 0:00:16\n",
      "\u001b[?25hRequirement already satisfied: numpy>=1.17.3; python_version >= \"3.8\" in /home/stranger/.local/lib/python3.8/site-packages (from opencv-python) (1.23.2)\n",
      "Installing collected packages: opencv-python\n",
      "Successfully installed opencv-python-4.6.0.66\n"
     ]
    }
   ],
   "source": [
    "!pip install opencv-python"
   ]
  },
  {
   "cell_type": "code",
   "execution_count": 2,
   "metadata": {},
   "outputs": [],
   "source": [
    "import matplotlib.pyplot as plt\n",
    "import numpy as np\n",
    "import cv2"
   ]
  },
  {
   "cell_type": "code",
   "execution_count": 13,
   "metadata": {},
   "outputs": [],
   "source": [
    "# load image\n",
    "img_path = '../village.jpeg'\n",
    "rgb = plt.imread(img_path)\n",
    "\n",
    "# convert images\n",
    "gray = cv2.cvtColor(rgb, cv2.COLOR_RGB2GRAY)\n",
    "\n",
    "# perform Fast Fourier Transformation for 2D signal, i.e, image\n",
    "ftimg = np.fft.fft2(gray)\n",
    "centered_ftimg = np.fft.fftshift(ftimg)\n",
    "magnitude_spectrum = 100 * np.log( np.abs( ftimg ) )\n",
    "centered_magnitude_spectrum = 100 * np.log( np.abs( centered_ftimg ) )"
   ]
  },
  {
   "cell_type": "code",
   "execution_count": 19,
   "metadata": {},
   "outputs": [],
   "source": [
    "def build_gaussian_filter(ncols, nrows):\n",
    "    sigmax, sigmay = 10, 10\n",
    "    cx, cy = nrows/2, ncols/2\n",
    "\n",
    "    x = np.linspace(0, nrows, nrows)\n",
    "    y = np.linspace(0, ncols, ncols)\n",
    "    X, Y = np.meshgrid(x, y)\n",
    "    gaussian_filter = np.exp(- ( ( (X - cx) / sigmax ) ** 2 + ( (Y - cy) / sigmay) ** 2 ) )\n",
    "\n",
    "    return gaussian_filter"
   ]
  },
  {
   "cell_type": "code",
   "execution_count": 20,
   "metadata": {},
   "outputs": [],
   "source": [
    "# Build a gaussian filter\n",
    "ncols, nrows = gray.shape\n",
    "gaussian_filter = build_gaussian_filter(ncols, nrows)"
   ]
  },
  {
   "cell_type": "code",
   "execution_count": 23,
   "metadata": {},
   "outputs": [],
   "source": [
    "# apply gaussian filter\n",
    "ftimg_gf = centered_ftimg * gaussian_filter\n",
    "filtered_img = np.abs(np.fft.ifft2(ftimg_gf))"
   ]
  },
  {
   "cell_type": "code",
   "execution_count": null,
   "metadata": {},
   "outputs": [],
   "source": []
  }
 ],
 "metadata": {
  "kernelspec": {
   "display_name": "Python 3.8.10 64-bit",
   "language": "python",
   "name": "python3"
  },
  "language_info": {
   "codemirror_mode": {
    "name": "ipython",
    "version": 3
   },
   "file_extension": ".py",
   "mimetype": "text/x-python",
   "name": "python",
   "nbconvert_exporter": "python",
   "pygments_lexer": "ipython3",
   "version": "3.8.10"
  },
  "orig_nbformat": 4,
  "vscode": {
   "interpreter": {
    "hash": "916dbcbb3f70747c44a77c7bcd40155683ae19c65e1c03b4aa3499c5328201f1"
   }
  }
 },
 "nbformat": 4,
 "nbformat_minor": 2
}
